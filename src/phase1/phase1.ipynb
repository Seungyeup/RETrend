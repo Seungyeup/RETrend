{
 "cells": [
  {
   "cell_type": "code",
   "execution_count": null,
   "id": "04f2950e-b788-44de-b00f-3b6bf3920cdc",
   "metadata": {},
   "outputs": [],
   "source": []
  },
  {
   "cell_type": "code",
   "execution_count": 1,
   "id": "513f8f65-352c-4a01-a9a1-e186d25ec58d",
   "metadata": {},
   "outputs": [
    {
     "name": "stdout",
     "output_type": "stream",
     "text": [
      "✅ Parquet 변환 완료: /Users/dave/nfs_mount/prquet/trade_history.parquet\n"
     ]
    }
   ],
   "source": [
    "import pandas as pd\n",
    "import pyarrow as pa\n",
    "import pyarrow.parquet as pq\n",
    "import os\n",
    "\n",
    "# 경로 설정\n",
    "home = os.path.expanduser('~')\n",
    "csv_path      = os.path.join(home, 'nfs_mount', 'trade_history_13337.csv')\n",
    "parquet_root  = os.path.join(home, 'nfs_mount', 'prquet')\n",
    "\n",
    "# Parquet 저장 디렉토리 생성\n",
    "os.makedirs(parquet_root, exist_ok=True)\n",
    "\n",
    "# CSV 로드 (모든 컬럼 그대로 읽기)\n",
    "df = pd.read_csv(csv_path)\n",
    "\n",
    "# 날짜 컬럼 생성\n",
    "df['date'] = pd.to_datetime(\n",
    "    df['tradeYear'].astype(str) + '-' +\n",
    "    df['tradeMonth'].astype(str).str.zfill(2) + '-' +\n",
    "    df['tradeDate'].astype(str).str.zfill(2)\n",
    ")\n",
    "\n",
    "# Parquet 파일로 쓰기 (모든 컬럼, date 포함)\n",
    "table = pa.Table.from_pandas(df)\n",
    "out_path = os.path.join(parquet_root, 'trade_history.parquet')\n",
    "pq.write_table(table, out_path, compression='snappy')\n",
    "\n",
    "print(f\"Parquet 변환 완료: {out_path}\")"
   ]
  },
  {
   "cell_type": "code",
   "execution_count": null,
   "id": "490f0bab-900f-4f19-9eae-2489357c0735",
   "metadata": {},
   "outputs": [],
   "source": []
  },
  {
   "cell_type": "code",
   "execution_count": 3,
   "id": "5ec3e25f-335c-4d42-bd81-815e1945af99",
   "metadata": {},
   "outputs": [
    {
     "name": "stdout",
     "output_type": "stream",
     "text": [
      "staging_raw created\n"
     ]
    }
   ],
   "source": [
    "import duckdb\n",
    "import os\n",
    "\n",
    "home        = os.path.expanduser('~')\n",
    "local_db    = os.path.join(home, 'realestate.duckdb')\n",
    "parquet_path = os.path.join(home, 'nfs_mount', 'parquet', 'trade_history.parquet')\n",
    "\n",
    "# 로컬 DB 파일에 연결 (read-write 가능)\n",
    "con = duckdb.connect(local_db)\n",
    "\n",
    "# staging_raw 테이블 생성\n",
    "con.execute(f\"\"\"\n",
    "CREATE OR REPLACE TABLE staging_raw AS\n",
    "SELECT *\n",
    "FROM read_parquet('{parquet_path}');\n",
    "\"\"\")\n",
    "print(\"staging_raw created\")"
   ]
  },
  {
   "cell_type": "code",
   "execution_count": 6,
   "id": "7c315f62-9fa1-4237-a8b4-d252ac91d51c",
   "metadata": {},
   "outputs": [
    {
     "ename": "CatalogException",
     "evalue": "Catalog Error: Table Function with name write_iceberg_table does not exist!\nDid you mean \"iceberg_metadata\"?",
     "output_type": "error",
     "traceback": [
      "\u001b[0;31m---------------------------------------------------------------------------\u001b[0m",
      "\u001b[0;31mCatalogException\u001b[0m                          Traceback (most recent call last)",
      "Cell \u001b[0;32mIn[6], line 24\u001b[0m\n\u001b[1;32m     17\u001b[0m con\u001b[38;5;241m.\u001b[39mexecute(\u001b[38;5;124mf\u001b[39m\u001b[38;5;124m\"\"\"\u001b[39m\n\u001b[1;32m     18\u001b[0m \u001b[38;5;124mCREATE OR REPLACE TABLE staging_raw AS\u001b[39m\n\u001b[1;32m     19\u001b[0m \u001b[38;5;124mSELECT *\u001b[39m\n\u001b[1;32m     20\u001b[0m \u001b[38;5;124mFROM read_parquet(\u001b[39m\u001b[38;5;124m'\u001b[39m\u001b[38;5;132;01m{\u001b[39;00mparquet_path\u001b[38;5;132;01m}\u001b[39;00m\u001b[38;5;124m'\u001b[39m\u001b[38;5;124m);\u001b[39m\n\u001b[1;32m     21\u001b[0m \u001b[38;5;124m\"\"\"\u001b[39m)\n\u001b[1;32m     23\u001b[0m \u001b[38;5;66;03m# 4) Iceberg 테이블에 쓰기/덮어쓰기 (overwrite 모드)\u001b[39;00m\n\u001b[0;32m---> 24\u001b[0m \u001b[43mcon\u001b[49m\u001b[38;5;241;43m.\u001b[39;49m\u001b[43mexecute\u001b[49m\u001b[43m(\u001b[49m\u001b[38;5;124;43mf\u001b[39;49m\u001b[38;5;124;43m\"\"\"\u001b[39;49m\n\u001b[1;32m     25\u001b[0m \u001b[38;5;124;43mCALL write_iceberg_table(\u001b[39;49m\n\u001b[1;32m     26\u001b[0m \u001b[38;5;124;43m  \u001b[39;49m\u001b[38;5;124;43m'\u001b[39;49m\u001b[38;5;124;43mfile\u001b[39;49m\u001b[38;5;124;43m'\u001b[39;49m\u001b[38;5;124;43m,                    -- catalog type: file-based\u001b[39;49m\n\u001b[1;32m     27\u001b[0m \u001b[38;5;124;43m  \u001b[39;49m\u001b[38;5;124;43m'\u001b[39;49m\u001b[38;5;132;43;01m{\u001b[39;49;00m\u001b[43miceberg_loc\u001b[49m\u001b[38;5;132;43;01m}\u001b[39;49;00m\u001b[38;5;124;43m'\u001b[39;49m\u001b[38;5;124;43m,           -- table location\u001b[39;49m\n\u001b[1;32m     28\u001b[0m \u001b[38;5;124;43m  \u001b[39;49m\u001b[38;5;124;43m'\u001b[39;49m\u001b[38;5;124;43mtrade_iceberg\u001b[39;49m\u001b[38;5;124;43m'\u001b[39;49m\u001b[38;5;124;43m,           -- table name\u001b[39;49m\n\u001b[1;32m     29\u001b[0m \u001b[38;5;124;43m  \u001b[39;49m\u001b[38;5;124;43m'\u001b[39;49m\u001b[38;5;124;43mparquet\u001b[39;49m\u001b[38;5;124;43m'\u001b[39;49m\u001b[38;5;124;43m,                 -- file format\u001b[39;49m\n\u001b[1;32m     30\u001b[0m \u001b[38;5;124;43m  \u001b[39;49m\u001b[38;5;124;43m'\u001b[39;49m\u001b[38;5;124;43mdate\u001b[39;49m\u001b[38;5;124;43m'\u001b[39;49m\u001b[38;5;124;43m,                    -- partition column\u001b[39;49m\n\u001b[1;32m     31\u001b[0m \u001b[38;5;124;43m  \u001b[39;49m\u001b[38;5;124;43m'\u001b[39;49m\u001b[38;5;124;43mstaging_raw\u001b[39;49m\u001b[38;5;124;43m'\u001b[39;49m\u001b[38;5;124;43m,             -- source table\u001b[39;49m\n\u001b[1;32m     32\u001b[0m \u001b[38;5;124;43m  \u001b[39;49m\u001b[38;5;124;43m'\u001b[39;49m\u001b[38;5;124;43moverwrite\u001b[39;49m\u001b[38;5;124;43m'\u001b[39;49m\u001b[38;5;124;43m                -- write mode: overwrite existing\u001b[39;49m\n\u001b[1;32m     33\u001b[0m \u001b[38;5;124;43m);\u001b[39;49m\n\u001b[1;32m     34\u001b[0m \u001b[38;5;124;43m\"\"\"\u001b[39;49m\u001b[43m)\u001b[49m\n\u001b[1;32m     36\u001b[0m \u001b[38;5;66;03m# 5) 샘플 조회\u001b[39;00m\n\u001b[1;32m     37\u001b[0m df \u001b[38;5;241m=\u001b[39m con\u001b[38;5;241m.\u001b[39mexecute(\u001b[38;5;124mf\u001b[39m\u001b[38;5;124m\"\"\"\u001b[39m\n\u001b[1;32m     38\u001b[0m \u001b[38;5;124mSELECT *\u001b[39m\n\u001b[1;32m     39\u001b[0m \u001b[38;5;124mFROM read_iceberg(\u001b[39m\u001b[38;5;124m'\u001b[39m\u001b[38;5;132;01m{\u001b[39;00miceberg_loc\u001b[38;5;132;01m}\u001b[39;00m\u001b[38;5;124m'\u001b[39m\u001b[38;5;124m)\u001b[39m\n\u001b[1;32m     40\u001b[0m \u001b[38;5;124mORDER BY date DESC\u001b[39m\n\u001b[1;32m     41\u001b[0m \u001b[38;5;124mLIMIT 5;\u001b[39m\n\u001b[1;32m     42\u001b[0m \u001b[38;5;124m\"\"\"\u001b[39m)\u001b[38;5;241m.\u001b[39mdf()\n",
      "\u001b[0;31mCatalogException\u001b[0m: Catalog Error: Table Function with name write_iceberg_table does not exist!\nDid you mean \"iceberg_metadata\"?"
     ]
    }
   ],
   "source": [
    "import duckdb\n",
    "import os\n",
    "\n",
    "home         = os.path.expanduser('~')\n",
    "local_db     = os.path.join(home, 'realestate.duckdb')\n",
    "parquet_path = os.path.join(home, 'nfs_mount', 'parquet', 'trade_history.parquet')\n",
    "iceberg_loc  = os.path.join(home, 'nfs_mount', 'iceberg', 'trade_iceberg')\n",
    "\n",
    "# 1) DuckDB 연결\n",
    "con = duckdb.connect(local_db)\n",
    "\n",
    "# 2) Iceberg 확장 설치·로드 (최초 1회만)\n",
    "con.execute(\"INSTALL iceberg;\")\n",
    "con.execute(\"LOAD iceberg;\")\n",
    "\n",
    "# 3) staging_raw 생성\n",
    "con.execute(f\"\"\"\n",
    "CREATE OR REPLACE TABLE staging_raw AS\n",
    "SELECT *\n",
    "FROM read_parquet('{parquet_path}');\n",
    "\"\"\")\n",
    "\n",
    "# 4) Iceberg 테이블에 쓰기/덮어쓰기 (overwrite 모드)\n",
    "con.execute(f\"\"\"\n",
    "CALL write_iceberg_table(\n",
    "  'file',                    -- catalog type: file-based\n",
    "  '{iceberg_loc}',           -- table location\n",
    "  'trade_iceberg',           -- table name\n",
    "  'parquet',                 -- file format\n",
    "  'date',                    -- partition column\n",
    "  'staging_raw',             -- source table\n",
    "  'overwrite'                -- write mode: overwrite existing\n",
    ");\n",
    "\"\"\")\n",
    "\n",
    "# 5) 샘플 조회\n",
    "df = con.execute(f\"\"\"\n",
    "SELECT *\n",
    "FROM read_iceberg('{iceberg_loc}')\n",
    "ORDER BY date DESC\n",
    "LIMIT 5;\n",
    "\"\"\").df()\n",
    "\n",
    "print(df)\n"
   ]
  },
  {
   "cell_type": "code",
   "execution_count": null,
   "id": "1f9e3dc0-33fd-46fb-a5f3-2a386c631650",
   "metadata": {},
   "outputs": [],
   "source": []
  }
 ],
 "metadata": {
  "kernelspec": {
   "display_name": "Python 3 (ipykernel)",
   "language": "python",
   "name": "python3"
  },
  "language_info": {
   "codemirror_mode": {
    "name": "ipython",
    "version": 3
   },
   "file_extension": ".py",
   "mimetype": "text/x-python",
   "name": "python",
   "nbconvert_exporter": "python",
   "pygments_lexer": "ipython3",
   "version": "3.9.18"
  }
 },
 "nbformat": 4,
 "nbformat_minor": 5
}
